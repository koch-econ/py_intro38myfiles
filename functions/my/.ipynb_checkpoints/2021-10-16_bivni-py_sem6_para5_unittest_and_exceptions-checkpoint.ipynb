{
 "cells": [
  {
   "cell_type": "markdown",
   "metadata": {},
   "source": [
    "## Импорт модулей"
   ]
  },
  {
   "cell_type": "code",
   "execution_count": null,
   "metadata": {
    "scrolled": true
   },
   "outputs": [],
   "source": [
    "%%writefile mymodule.py\n",
    "\n",
    "KOCH_NUM=123.456\n",
    "def koch_func(x):\n",
    "    return x/KOCH_NUM\n",
    "if __name__==\"__main__\":\n",
    "    print('тестируем')\n",
    "    print(koch_func(KOCH_NUM))\n",
    "else:\n",
    "    print(\"импортируем \"+__name__)"
   ]
  },
  {
   "cell_type": "code",
   "execution_count": null,
   "metadata": {},
   "outputs": [],
   "source": [
    "%run mymodule.py"
   ]
  },
  {
   "cell_type": "code",
   "execution_count": null,
   "metadata": {
    "scrolled": true
   },
   "outputs": [],
   "source": [
    "KOCH_NUM"
   ]
  },
  {
   "cell_type": "code",
   "execution_count": null,
   "metadata": {
    "scrolled": true
   },
   "outputs": [],
   "source": [
    "koch_func(1000)"
   ]
  },
  {
   "cell_type": "code",
   "execution_count": null,
   "metadata": {
    "scrolled": false
   },
   "outputs": [],
   "source": [
    "import mymodule"
   ]
  },
  {
   "cell_type": "code",
   "execution_count": 1,
   "metadata": {
    "scrolled": true
   },
   "outputs": [
    {
     "name": "stdout",
     "output_type": "stream",
     "text": [
      "импортируем mymodule\n"
     ]
    }
   ],
   "source": [
    "import mymodule as mymo"
   ]
  },
  {
   "cell_type": "code",
   "execution_count": 2,
   "metadata": {},
   "outputs": [
    {
     "data": {
      "text/plain": [
       "123.456"
      ]
     },
     "execution_count": 2,
     "metadata": {},
     "output_type": "execute_result"
    }
   ],
   "source": [
    "mymo.KOCH_NUM"
   ]
  },
  {
   "cell_type": "code",
   "execution_count": null,
   "metadata": {},
   "outputs": [],
   "source": [
    "import sys\n",
    "sys.path"
   ]
  },
  {
   "cell_type": "code",
   "execution_count": null,
   "metadata": {},
   "outputs": [],
   "source": [
    "# from mymodule import *\n",
    "from mymodule import koch_funcnc"
   ]
  },
  {
   "cell_type": "code",
   "execution_count": null,
   "metadata": {
    "scrolled": true
   },
   "outputs": [],
   "source": [
    "koch_func(1234)"
   ]
  },
  {
   "cell_type": "code",
   "execution_count": null,
   "metadata": {},
   "outputs": [],
   "source": []
  },
  {
   "cell_type": "code",
   "execution_count": null,
   "metadata": {
    "scrolled": true
   },
   "outputs": [],
   "source": [
    "__name__"
   ]
  },
  {
   "cell_type": "code",
   "execution_count": null,
   "metadata": {},
   "outputs": [],
   "source": [
    "vars()"
   ]
  },
  {
   "cell_type": "code",
   "execution_count": 4,
   "metadata": {},
   "outputs": [],
   "source": [
    "import importlib"
   ]
  },
  {
   "cell_type": "code",
   "execution_count": 5,
   "metadata": {},
   "outputs": [
    {
     "name": "stdout",
     "output_type": "stream",
     "text": [
      "импортируем mymodule\n"
     ]
    },
    {
     "data": {
      "text/plain": [
       "<module 'mymodule' from 'C:\\\\Users\\\\koch\\\\Documents\\\\python21osen\\\\mymodule.py'>"
      ]
     },
     "execution_count": 5,
     "metadata": {},
     "output_type": "execute_result"
    }
   ],
   "source": [
    "importlib.reload(mymo)"
   ]
  },
  {
   "cell_type": "markdown",
   "metadata": {},
   "source": [
    "# Семинар БИВНИ-py : Unit testing & Exceptions\n",
    "\n",
    "* 16.10.2021 -- Лекция 6 \n"
   ]
  },
  {
   "cell_type": "markdown",
   "metadata": {},
   "source": [
    "* * *\n",
    "\n",
    "# 1. Модульное тестирование\n",
    "\n",
    "Имеется несколько различных инфраструктур (frameworks) и инструментов для тестирования модулей программы:\n",
    "\n",
    "* unittest\n",
    "* doctest\n",
    "* nose\n",
    "* pytest\n",
    "\n",
    "Перечисление в статье на [Хабрахабр](https://habrahabr.ru/post/121162/)\n",
    "\n",
    "\n",
    "Мы рассмотрим пример из курса <https://python-course.eu/python3_tests.php>"
   ]
  },
  {
   "cell_type": "markdown",
   "metadata": {},
   "source": [
    "Функция `fib(n)` использует неочевидное переприсвоение и ее хочется проверить. Для n==20 функция будет возвращать намерено возвращать неправильный результат"
   ]
  },
  {
   "cell_type": "code",
   "execution_count": 36,
   "metadata": {},
   "outputs": [
    {
     "name": "stdout",
     "output_type": "stream",
     "text": [
      "Overwriting fibonacci.py\n"
     ]
    }
   ],
   "source": [
    "%%writefile fibonacci.py\n",
    "\"wrong fibonacci function for unittest demo \"\n",
    "\n",
    "\n",
    "def fib(n):\n",
    "    \"\"\" Iterative Fibonacci Function \"\"\"\n",
    "    f_2, f_1 = 0, 1\n",
    "    for i in range(n):  \n",
    "        f_2, f_1 = f_1, f_1+f_2  # правильный, но неочевидный цикл\n",
    "        if n==5:\n",
    "            f_2=22\n",
    "    return f_2\n"
   ]
  },
  {
   "cell_type": "code",
   "execution_count": 21,
   "metadata": {},
   "outputs": [],
   "source": [
    "import fibonacci"
   ]
  },
  {
   "cell_type": "code",
   "execution_count": 22,
   "metadata": {},
   "outputs": [
    {
     "data": {
      "text/plain": [
       "22"
      ]
     },
     "execution_count": 22,
     "metadata": {},
     "output_type": "execute_result"
    }
   ],
   "source": [
    "importlib.reload(fibonacci)\n",
    "fibonacci.fib(5)"
   ]
  },
  {
   "cell_type": "markdown",
   "metadata": {},
   "source": [
    "Сгенерируем 50 чисел Фибоначчи более очевидным циклом"
   ]
  },
  {
   "cell_type": "code",
   "execution_count": 6,
   "metadata": {},
   "outputs": [
    {
     "name": "stdout",
     "output_type": "stream",
     "text": [
      "fibonacci seq: [0, 1, 1, 2, 3, 5, 8, 13, 21, 34, 55, 89, 144, 233, 377, 610, 987, 1597, 2584, 4181, 6765, 10946, 17711, 28657, 46368, 75025, 121393, 196418, 317811, 514229, 832040, 1346269, 2178309, 3524578, 5702887, 9227465, 14930352, 24157817, 39088169, 63245986, 102334155, 165580141, 267914296, 433494437, 701408733, 1134903170, 1836311903, 2971215073, 4807526976, 7778742049, 12586269025]\n",
      "pairs (n,  n-th number) : [(0, 0), (1, 1), (2, 1), (3, 2), (4, 3), (5, 5), (6, 8), (7, 13), (8, 21), (9, 34), (10, 55), (11, 89), (12, 144), (13, 233), (14, 377), (15, 610), (16, 987), (17, 1597), (18, 2584), (19, 4181), (20, 6765), (21, 10946), (22, 17711), (23, 28657), (24, 46368), (25, 75025), (26, 121393), (27, 196418), (28, 317811), (29, 514229), (30, 832040), (31, 1346269), (32, 2178309), (33, 3524578), (34, 5702887), (35, 9227465), (36, 14930352), (37, 24157817), (38, 39088169), (39, 63245986), (40, 102334155), (41, 165580141), (42, 267914296), (43, 433494437), (44, 701408733), (45, 1134903170), (46, 1836311903), (47, 2971215073), (48, 4807526976), (49, 7778742049), (50, 12586269025)]\n"
     ]
    }
   ],
   "source": [
    "nn=50\n",
    "fib_list=[0,1]\n",
    "for i in range(1,nn):\n",
    "        fib_list.append(fib_list[-1]+fib_list[-2]) # += удлиняет fib_list, добавляя в конец список из одного числа\n",
    "                                                # -- суммы 2 последних элементов списка\n",
    "\n",
    "print(\"fibonacci seq:\", fib_list)\n",
    "fib_pairs = enumerate(fib_list)\n",
    "print(\"pairs (n,  n-th number) :\",list(fib_pairs))"
   ]
  },
  {
   "cell_type": "markdown",
   "metadata": {},
   "source": [
    "* * *\n",
    "### unittest\n",
    "\n",
    "Создаем class FibonacciTest для тестирования функции `fib(n)` на базе класса `unittest`"
   ]
  },
  {
   "cell_type": "code",
   "execution_count": 24,
   "metadata": {},
   "outputs": [
    {
     "name": "stdout",
     "output_type": "stream",
     "text": [
      "Overwriting test_fibonacci.py\n"
     ]
    }
   ],
   "source": [
    "%%writefile test_fibonacci.py\n",
    "import unittest\n",
    "\n",
    "import fibonacci \n",
    "\n",
    "class FibonacciTest (unittest.TestCase):\n",
    "    def test_fib_check_with_several_known_args(self):\n",
    "        self.assertEqual(fibonacci.fib(0),0)\n",
    "        self.assertEqual(fibonacci.fib(1),1)\n",
    "        self.assertEqual(fibonacci.fib(5),5)\n",
    "        self.assertEqual(fibonacci.fib(10),55)\n",
    "        self.assertEqual(fibonacci.fib(20),6765)\n",
    "\n",
    "        \n",
    "if __name__ == \"__main__\": \n",
    "    unittest.main() \n",
    "\n"
   ]
  },
  {
   "cell_type": "code",
   "execution_count": 25,
   "metadata": {},
   "outputs": [
    {
     "name": "stderr",
     "output_type": "stream",
     "text": [
      "F\n",
      "======================================================================\n",
      "FAIL: test_fib_check_with_several_known_args (__main__.FibonacciTest)\n",
      "----------------------------------------------------------------------\n",
      "Traceback (most recent call last):\n",
      "  File \"C:\\Users\\koch\\Documents\\python21osen\\test_fibonacci.py\", line 9, in test_fib_check_with_several_known_args\n",
      "    self.assertEqual(fibonacci.fib(5),5)\n",
      "AssertionError: 22 != 5\n",
      "\n",
      "----------------------------------------------------------------------\n",
      "Ran 1 test in 0.002s\n",
      "\n",
      "FAILED (failures=1)\n"
     ]
    },
    {
     "ename": "SystemExit",
     "evalue": "True",
     "output_type": "error",
     "traceback": [
      "An exception has occurred, use %tb to see the full traceback.\n",
      "\u001b[1;31mSystemExit\u001b[0m\u001b[1;31m:\u001b[0m True\n"
     ]
    }
   ],
   "source": [
    "%run test_fibonacci.py"
   ]
  },
  {
   "cell_type": "markdown",
   "metadata": {},
   "source": [
    "*** \n",
    "\n",
    "Корректируем файл fibonacci.py и снова запускаем тест"
   ]
  },
  {
   "cell_type": "code",
   "execution_count": 28,
   "metadata": {},
   "outputs": [
    {
     "name": "stdout",
     "output_type": "stream",
     "text": [
      "Overwriting fibonacci.py\n"
     ]
    }
   ],
   "source": [
    "%%writefile fibonacci.py\n",
    "\"Correct fibonacci function for unittest demo \"\n",
    "\n",
    "\n",
    "\n",
    "\n",
    "def fib(n):\n",
    "    \"\"\" Iterative Fibonacci Function \"\"\"\n",
    "    f_2, f_1 = 0, 1\n",
    "    for i in range(n):  \n",
    "        f_2, f_1 = f_1, f_1+f_2  # правильный, но неочевидный цикл\n",
    "    return f_2"
   ]
  },
  {
   "cell_type": "code",
   "execution_count": 29,
   "metadata": {},
   "outputs": [
    {
     "name": "stderr",
     "output_type": "stream",
     "text": [
      ".\n",
      "----------------------------------------------------------------------\n",
      "Ran 1 test in 0.001s\n",
      "\n",
      "OK\n"
     ]
    }
   ],
   "source": [
    "import imp\n",
    "imp.reload(fibonacci)  # переопределяем уже импортированный командой  import модуль \n",
    "%run test_fibonacci.py"
   ]
  },
  {
   "cell_type": "markdown",
   "metadata": {},
   "source": [
    "#### Инициализация и освобождения вспомогательнгого массива данных для теста"
   ]
  },
  {
   "cell_type": "code",
   "execution_count": 34,
   "metadata": {},
   "outputs": [
    {
     "name": "stdout",
     "output_type": "stream",
     "text": [
      "Overwriting test_fibonacci_with_loop1.py\n"
     ]
    }
   ],
   "source": [
    "%%writefile test_fibonacci_with_loop1.py\n",
    "import unittest\n",
    "import fibonacci \n",
    "\n",
    "class FibonacciTest(unittest.TestCase):\n",
    "\n",
    "    def setUp(self):\n",
    "        nn=5000\n",
    "        self.fib_list=[0,1]\n",
    "        for i in range(1,nn):\n",
    "            self.fib_list.append(self.fib_list[-1]+self.fib_list[-2]) \n",
    "                                                \n",
    "        print (\"setUp executed!\")\n",
    "\n",
    "    def testCalculation(self):\n",
    "        for i in range(len(self.fib_list)):\n",
    "            self.assertEqual(fibonacci.fib(i), self.fib_list[i])\n",
    "\n",
    "    def tearDown(self):\n",
    "        self.fib_list = None\n",
    "        print (\"tearDown executed!\")\n",
    "\n",
    "if __name__ == \"__main__\": \n",
    "        unittest.main() "
   ]
  },
  {
   "cell_type": "code",
   "execution_count": 37,
   "metadata": {},
   "outputs": [
    {
     "name": "stderr",
     "output_type": "stream",
     "text": [
      "F"
     ]
    },
    {
     "name": "stdout",
     "output_type": "stream",
     "text": [
      "setUp executed!\n",
      "tearDown executed!\n"
     ]
    },
    {
     "name": "stderr",
     "output_type": "stream",
     "text": [
      "\n",
      "======================================================================\n",
      "FAIL: testCalculation (__main__.FibonacciTest)\n",
      "----------------------------------------------------------------------\n",
      "Traceback (most recent call last):\n",
      "  File \"C:\\Users\\koch\\Documents\\python21osen\\test_fibonacci_with_loop1.py\", line 16, in testCalculation\n",
      "    self.assertEqual(fibonacci.fib(i), self.fib_list[i])\n",
      "AssertionError: 22 != 5\n",
      "\n",
      "----------------------------------------------------------------------\n",
      "Ran 1 test in 0.009s\n",
      "\n",
      "FAILED (failures=1)\n"
     ]
    },
    {
     "ename": "SystemExit",
     "evalue": "True",
     "output_type": "error",
     "traceback": [
      "An exception has occurred, use %tb to see the full traceback.\n",
      "\u001b[1;31mSystemExit\u001b[0m\u001b[1;31m:\u001b[0m True\n"
     ]
    }
   ],
   "source": [
    "import imp\n",
    "imp.reload(fibonacci)   # повторно загружаем уже импортированный командой  import модуль после его редактирования\n",
    "%run test_fibonacci_with_loop1.py"
   ]
  },
  {
   "cell_type": "code",
   "execution_count": null,
   "metadata": {},
   "outputs": [],
   "source": [
    "%%writefile test_fibonacci_with_loop2.py\n",
    "import unittest\n",
    "import fibonacci \n",
    "\n",
    "class FibonacciTest(unittest.TestCase):\n",
    "\n",
    "    def setUp(self):\n",
    "        self.fib_list=[0,1]\n",
    "        nn=50\n",
    "        for i in range(1,nn):\n",
    "            # опер. += удлиняет fib_list,  добавляя в конец список из одного числа [fib(i-1)+fib(i-2)]\n",
    "            self.fib_list += [self.fib_list[-1]+self.fib_list[-2]] \n",
    "        print (\"setUp executed!\")\n",
    "\n",
    "    def testCalculation(self):\n",
    "        for i,val  in enumerate(self.fib_list):\n",
    "            self.assertEqual(fibonacci.fib(i), val)\n",
    "\n",
    "    def tearDown(self):\n",
    "        self.fib_list = None\n",
    "        print (\"tearDown executed!\")\n",
    "\n",
    "if __name__ == \"__main__\": \n",
    "    unittest.main() "
   ]
  },
  {
   "cell_type": "code",
   "execution_count": null,
   "metadata": {},
   "outputs": [],
   "source": [
    "import importlib\n",
    "importlib.reload(fibonacci)  # повторно загружаем уже импортированный командой  import модуль после его редактирования\n",
    "%run test_fibonacci_with_loop2.py"
   ]
  },
  {
   "cell_type": "markdown",
   "metadata": {},
   "source": [
    "* * * \n",
    "\n",
    "## Модуль doctest\n",
    "\n",
    "В **строку документации (`__doc__`)** функции можно добавлять примеры вызова фунции и для автоматического тестирования и для иллюстрации вариантов её применения"
   ]
  },
  {
   "cell_type": "code",
   "execution_count": 38,
   "metadata": {},
   "outputs": [
    {
     "name": "stdout",
     "output_type": "stream",
     "text": [
      "Writing fibonacci_TDD.py\n"
     ]
    }
   ],
   "source": [
    "%%writefile fibonacci_TDD.py\n",
    "\n",
    "import doctest\n",
    "\n",
    "def fib(n):\n",
    "    \"\"\" \n",
    "    Calculates the n-th Fibonacci number iteratively \n",
    "\n",
    "    >>> fib(0)\n",
    "    0\n",
    "    >>> fib(1)\n",
    "    1\n",
    "    >>> fib(10) \n",
    "    55\n",
    "    >>> fib(15)\n",
    "    610\n",
    "    >>> \n",
    "\n",
    "    \"\"\"\n",
    "\n",
    "    return 0\n",
    "\n",
    "if __name__ == \"__main__\": \n",
    "    doctest.testmod()"
   ]
  },
  {
   "cell_type": "code",
   "execution_count": 39,
   "metadata": {},
   "outputs": [
    {
     "name": "stdout",
     "output_type": "stream",
     "text": [
      "**********************************************************************\n",
      "File \"C:\\Users\\koch\\Documents\\python21osen\\fibonacci_TDD.py\", line 10, in __main__.fib\n",
      "Failed example:\n",
      "    fib(1)\n",
      "Expected:\n",
      "    1\n",
      "Got:\n",
      "    0\n",
      "**********************************************************************\n",
      "File \"C:\\Users\\koch\\Documents\\python21osen\\fibonacci_TDD.py\", line 12, in __main__.fib\n",
      "Failed example:\n",
      "    fib(10) \n",
      "Expected:\n",
      "    55\n",
      "Got:\n",
      "    0\n",
      "**********************************************************************\n",
      "File \"C:\\Users\\koch\\Documents\\python21osen\\fibonacci_TDD.py\", line 14, in __main__.fib\n",
      "Failed example:\n",
      "    fib(15)\n",
      "Expected:\n",
      "    610\n",
      "Got:\n",
      "    0\n",
      "**********************************************************************\n",
      "1 items had failures:\n",
      "   3 of   4 in __main__.fib\n",
      "***Test Failed*** 3 failures.\n"
     ]
    }
   ],
   "source": [
    "%run  fibonacci_TDD.py "
   ]
  },
  {
   "cell_type": "markdown",
   "metadata": {},
   "source": [
    "### Исправленный вариант"
   ]
  },
  {
   "cell_type": "code",
   "execution_count": 40,
   "metadata": {},
   "outputs": [
    {
     "name": "stdout",
     "output_type": "stream",
     "text": [
      "Overwriting fibonacci_TDD.py\n"
     ]
    }
   ],
   "source": [
    "%%writefile fibonacci_TDD.py\n",
    "\n",
    "import doctest\n",
    "\n",
    "def fib(n):\n",
    "    \"\"\" \n",
    "    Calculates the n-th Fibonacci number iteratively \n",
    "\n",
    "    >>> fib(0)\n",
    "    0\n",
    "    >>> fib(1)\n",
    "    1\n",
    "    >>> fib(10) \n",
    "    55\n",
    "    >>> fib(15)\n",
    "    610\n",
    "    >>> \n",
    "\n",
    "    \"\"\"\n",
    "\n",
    "    a, b = 0, 1\n",
    "    for i in range(n):  \n",
    "        a, b = b, a + b  # правильный, но неочевидный цикл\n",
    "    return a\n",
    "\n",
    "if __name__ == \"__main__\": \n",
    "    doctest.testmod()"
   ]
  },
  {
   "cell_type": "code",
   "execution_count": 41,
   "metadata": {},
   "outputs": [],
   "source": [
    "%run fibonacci_TDD.py"
   ]
  },
  {
   "cell_type": "markdown",
   "metadata": {},
   "source": [
    "Ничего не выдалось -- все путём!!!"
   ]
  },
  {
   "cell_type": "markdown",
   "metadata": {},
   "source": [
    "# 2. Знакомство с исключительными ситуациями (exception)\n",
    "\n",
    "\n",
    "```python\n",
    "    try:\n",
    "        команда1.доставить_мяч_ближе_к_воротам()\n",
    "        команда1.нанести_удар_по_воротам_или_дать_передачу()\n",
    "        команда1.добить отскок или подправить мяч в ворота\n",
    "    except ПоложениеВнеИгры:                  # Исключительная ситуация типа 1 \n",
    "        команда2[\"вратарь\"].удар_от_ворот()   # Блок корректирующих действий 1\n",
    "    except ПоводДляОстановкиИгры2:            # Исключительная ситуация типа 2\n",
    "        корректирующее действствие 2          # Блок корректирующих действий 2\n",
    "    except УходЗаЛицевуюЛинию as err_info:    # Исключительная ситуация типа УходЗаЛицевуюЛинию \n",
    "        if(err_info.хозяин_ворот==\"команда 1\" \\  \n",
    "           and err_info.команда_последняя_коснулась ==\"команда 1\"): # в err_info объект-исключение этого типа\n",
    "            команда1.подать_угловой()\n",
    "        elif ....\n",
    "         \n",
    "    ...\n",
    "    \n",
    "```\n",
    "\n",
    "Судьи обеспечивают механизм исключительных ситуаций (**exception**). Например, боковой судья поднимает флажок (**raise**). По-английски: the linesman raised the flag for offside. При этом обычное течение игры прерывается, и выполняются корректирующие действия, предусмотренные правилами.\n",
    "\n",
    "\n",
    "Если исключение не перехватывается в функции, где оно возникло, то оно распространяется на вызывающую подпрограмму, если и там не будет перехвачено, то в конце концов, программа прервется  и сообщение об ощибке и история вызовов функций будет выдана пользователю."
   ]
  },
  {
   "cell_type": "code",
   "execution_count": null,
   "metadata": {
    "scrolled": true
   },
   "outputs": [],
   "source": [
    "bad_file = open(\"net_takogo.xxx\")"
   ]
  },
  {
   "cell_type": "code",
   "execution_count": null,
   "metadata": {},
   "outputs": [],
   "source": [
    "%%writefile my_file1.txt\n",
    "123\n",
    "12\n",
    "66\n",
    "11\n",
    "48"
   ]
  },
  {
   "cell_type": "code",
   "execution_count": null,
   "metadata": {},
   "outputs": [],
   "source": [
    "file_names=(\"my_file1.txt\",\"my_file2.txt\")\n",
    "for fn in file_names:\n",
    "    try:\n",
    "        my_file =  open(fn)\n",
    "        print(\"содержимое файла\", fn)\n",
    "        print(my_file.read())\n",
    "    except FileNotFoundError as err:\n",
    "        print(\"проблемма с файлом\",err)\n",
    "        my_file = None\n",
    "    finally:\n",
    "        if my_file:\n",
    "            my_file.close()"
   ]
  },
  {
   "cell_type": "markdown",
   "metadata": {
    "collapsed": true
   },
   "source": [
    "### Пример 1: функция возбуждает исключение  (raise) в случае негативного или нецелого аргумента"
   ]
  },
  {
   "cell_type": "code",
   "execution_count": null,
   "metadata": {},
   "outputs": [],
   "source": [
    "%%writefile fibonacci.py\n",
    "\"Correct fibonacci function for unittest & exception demo \"\n",
    "\n",
    "\n",
    "class FibonacciArgumentError(ValueError):\n",
    "    pass\n",
    "\n",
    "def fib(n):\n",
    "    \"\"\" Iterative Fibonacci Function \"\"\"\n",
    "    if not isinstance(n,int):\n",
    "        raise FibonacciArgumentError(\"Argument must be integer\")\n",
    "    elif n<0:\n",
    "        raise FibonacciArgumentError(\"Argument must be 0 or positive\")\n",
    "    a, b = 0, 1\n",
    "    for i in range(n):  \n",
    "        a, b = b, a + b \n",
    "    return a\n",
    "\n"
   ]
  },
  {
   "cell_type": "markdown",
   "metadata": {},
   "source": [
    "### стандартная функция isinstance(object,class)\n",
    "\n",
    "```python\n",
    " isinstance(object, ClassA)\n",
    "```\n",
    "\n",
    "```python\n",
    " isinstance(object, (Class1, Class2, Class3))\n",
    "```\n",
    "\n",
    "\n",
    "Функция выдает True, если $$\\text{object}\\in \\text{ClassA}$$\n",
    "\n",
    "или \n",
    "\n",
    "$$\\text{object}\\in  \\text{ClassB}\\quad \\text{и} \\quad \\text{issubclass}(\\text{ClassB, ClassA})$$"
   ]
  },
  {
   "cell_type": "code",
   "execution_count": null,
   "metadata": {},
   "outputs": [],
   "source": [
    "importlib.reload(fibonacci)"
   ]
  },
  {
   "cell_type": "code",
   "execution_count": null,
   "metadata": {},
   "outputs": [],
   "source": [
    "fibonacci.fib(\"lala\")"
   ]
  },
  {
   "cell_type": "code",
   "execution_count": null,
   "metadata": {},
   "outputs": [],
   "source": [
    "fibonacci.fib(8)"
   ]
  },
  {
   "cell_type": "code",
   "execution_count": null,
   "metadata": {},
   "outputs": [],
   "source": [
    "fibonacci.fib(-2)"
   ]
  },
  {
   "cell_type": "code",
   "execution_count": null,
   "metadata": {},
   "outputs": [],
   "source": [
    "import math\n",
    "math.sqrt(-2)"
   ]
  },
  {
   "cell_type": "markdown",
   "metadata": {},
   "source": [
    "### Пример 2: список результатов применения функции $g(n)=\\sqrt{1000-fib(n)}$\n",
    "\n",
    "Пишем код,  который  применяет фукцию Фибоначчи  к   каждому элементу списка арг и создает список результаов функции. Для некорректных вызовов в список результатов `g_res_list` добавляется специальное значение None,  а в параллельный список  `g_err_list` добавлятся объект ошибки"
   ]
  },
  {
   "cell_type": "code",
   "execution_count": null,
   "metadata": {},
   "outputs": [],
   "source": [
    "def g(n):\n",
    "    temp= 1000-fibonacci.fib(n)\n",
    "    return math.sqrt(temp)\n",
    "\n",
    "g_arg_list=[2,10,\"a\",-1,20,200 ]\n",
    "g_res_list=[]\n",
    "g_err_list=[]"
   ]
  },
  {
   "cell_type": "code",
   "execution_count": null,
   "metadata": {},
   "outputs": [],
   "source": [
    "for a in g_arg_list:\n",
    "    try:\n",
    "        res = g(a)\n",
    "        err = None\n",
    "    except ValueError as e:\n",
    "        res = None\n",
    "        err = e\n",
    "    finally:\n",
    "        g_res_list.append(res)\n",
    "        g_err_list.append(err)\n",
    "    \n",
    "for i in range(len(g_arg_list)):\n",
    "    print(\"x={} g(x)={} err=\\\"{}\\\"\".format(g_arg_list[i],g_res_list[i],g_err_list[i]))\n"
   ]
  },
  {
   "cell_type": "code",
   "execution_count": null,
   "metadata": {},
   "outputs": [],
   "source": [
    "list(map(type,g_err_list))"
   ]
  },
  {
   "cell_type": "code",
   "execution_count": null,
   "metadata": {},
   "outputs": [],
   "source": [
    "g_err_list[3].args"
   ]
  },
  {
   "cell_type": "code",
   "execution_count": null,
   "metadata": {},
   "outputs": [],
   "source": [
    "g_err_list[3].__traceback__.tb_lineno"
   ]
  },
  {
   "cell_type": "code",
   "execution_count": null,
   "metadata": {},
   "outputs": [],
   "source": [
    "g_err_list[3].__class__"
   ]
  },
  {
   "cell_type": "markdown",
   "metadata": {},
   "source": [
    "`isinstance(value, Class)` выдает `True`, если value является экземпляром класса `Class` или его потомка"
   ]
  },
  {
   "cell_type": "code",
   "execution_count": null,
   "metadata": {},
   "outputs": [],
   "source": [
    "isinstance(g_err_list[3],Exception)"
   ]
  },
  {
   "cell_type": "code",
   "execution_count": null,
   "metadata": {},
   "outputs": [],
   "source": [
    "isinstance(g_err_list[3],ValueError)"
   ]
  },
  {
   "cell_type": "code",
   "execution_count": null,
   "metadata": {},
   "outputs": [],
   "source": [
    "isinstance(g_err_list[3],fibonacci.FibonacciArgumentError)"
   ]
  },
  {
   "cell_type": "code",
   "execution_count": null,
   "metadata": {},
   "outputs": [],
   "source": [
    "isinstance(g_err_list[4],fibonacci.FibonacciArgumentError)"
   ]
  },
  {
   "cell_type": "code",
   "execution_count": null,
   "metadata": {},
   "outputs": [],
   "source": [
    "isinstance(g_err_list[4],ValueError)"
   ]
  },
  {
   "cell_type": "code",
   "execution_count": null,
   "metadata": {},
   "outputs": [],
   "source": [
    "g_err_list[4].__traceback__.tb_lineno"
   ]
  },
  {
   "cell_type": "markdown",
   "metadata": {},
   "source": []
  },
  {
   "cell_type": "code",
   "execution_count": null,
   "metadata": {},
   "outputs": [],
   "source": []
  }
 ],
 "metadata": {
  "kernelspec": {
   "display_name": "Python 3 (ipykernel)",
   "language": "python",
   "name": "python3"
  },
  "language_info": {
   "codemirror_mode": {
    "name": "ipython",
    "version": 3
   },
   "file_extension": ".py",
   "mimetype": "text/x-python",
   "name": "python",
   "nbconvert_exporter": "python",
   "pygments_lexer": "ipython3",
   "version": "3.8.11"
  }
 },
 "nbformat": 4,
 "nbformat_minor": 2
}
